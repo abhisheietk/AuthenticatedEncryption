{
 "cells": [
  {
   "cell_type": "code",
   "execution_count": 2,
   "metadata": {
    "collapsed": false
   },
   "outputs": [
    {
     "name": "stdout",
     "output_type": "stream",
     "text": [
      "[[0x4 0x9 0x1 0x1]\n",
      " [0x1 0x4 0x9 0x1]\n",
      " [0x1 0x1 0x4 0x9]\n",
      " [0x9 0x1 0x1 0x4]]\n",
      "[[0x8 0x1b 0x1 0x1]\n",
      " [0x1 0x8 0x1b 0x1]\n",
      " [0x1 0x1 0x8 0x1b]\n",
      " [0x1b 0x1 0x1 0x8]]\n"
     ]
    }
   ],
   "source": [
    "import numpy as np\n",
    "np.set_printoptions(formatter={'int':hex})\n",
    "\n",
    "a = np.array([[2, 3, 1, 1],\n",
    "              [1, 2, 3, 1],\n",
    "              [1, 1, 2, 3],\n",
    "              [3, 1, 1, 2]])\n",
    "print(np.multiply(a,a))\n",
    "print(np.multiply(a,np.multiply(a,a)))"
   ]
  },
  {
   "cell_type": "code",
   "execution_count": 3,
   "metadata": {
    "collapsed": true
   },
   "outputs": [],
   "source": [
    "b = np.array([[14, 11, 13, 9],\n",
    "              [9, 14, 11, 13],\n",
    "              [13, 9, 14, 11],\n",
    "              [11, 13, 9, 14]])"
   ]
  },
  {
   "cell_type": "code",
   "execution_count": 4,
   "metadata": {
    "collapsed": false
   },
   "outputs": [
    {
     "name": "stdout",
     "output_type": "stream",
     "text": [
      "[[0xc 0x8 0xc 0x8]\n",
      " [0x8 0xc 0x8 0xc]\n",
      " [0xc 0x8 0xc 0x8]\n",
      " [0x8 0xc 0x8 0xc]]\n"
     ]
    }
   ],
   "source": [
    "print((b-a))"
   ]
  },
  {
   "cell_type": "code",
   "execution_count": 5,
   "metadata": {
    "collapsed": false
   },
   "outputs": [
    {
     "name": "stdout",
     "output_type": "stream",
     "text": [
      "[[0xe 0xb 0xd 0x9]\n",
      " [0x9 0xe 0xb 0xd]\n",
      " [0xd 0x9 0xe 0xb]\n",
      " [0xb 0xd 0x9 0xe]]\n"
     ]
    }
   ],
   "source": [
    "c = np.array([[ 3,  2,  3,  2],\n",
    "              [ 2,  3,  2,  3],\n",
    "              [ 3,  2,  3,  2],\n",
    "              [ 2,  3,  2,  3]])\n",
    "print(c*4+a)\n"
   ]
  },
  {
   "cell_type": "code",
   "execution_count": 6,
   "metadata": {
    "collapsed": false
   },
   "outputs": [
    {
     "name": "stdout",
     "output_type": "stream",
     "text": [
      "[[0x1 -0x1 0x2 0x1]\n",
      " [0x1 0x1 -0x1 0x2]\n",
      " [0x2 0x1 0x1 -0x1]\n",
      " [-0x1 0x2 0x1 0x1]]\n"
     ]
    }
   ],
   "source": [
    "print(c-a)"
   ]
  },
  {
   "cell_type": "code",
   "execution_count": 7,
   "metadata": {
    "collapsed": true
   },
   "outputs": [],
   "source": [
    "p = np.array([[5, 0, 4, 0],\n",
    "              [0, 5, 0, 4],\n",
    "              [4, 0, 5, 0],\n",
    "              [0, 4, 0, 5]])"
   ]
  },
  {
   "cell_type": "code",
   "execution_count": 8,
   "metadata": {
    "collapsed": false
   },
   "outputs": [
    {
     "name": "stdout",
     "output_type": "stream",
     "text": [
      "[[0xe 0x13 0xd 0x11]\n",
      " [0x11 0xe 0x13 0xd]\n",
      " [0xd 0x11 0xe 0x13]\n",
      " [0x13 0xd 0x11 0xe]]\n"
     ]
    }
   ],
   "source": [
    "print(np.matmul(a,p))"
   ]
  },
  {
   "cell_type": "code",
   "execution_count": 9,
   "metadata": {
    "collapsed": false
   },
   "outputs": [
    {
     "name": "stdout",
     "output_type": "stream",
     "text": [
      "[[0x2 0x3 0x1 0x1]\n",
      " [0x1 0x2 0x3 0x1]\n",
      " [0x1 0x1 0x2 0x3]\n",
      " [0x3 0x1 0x1 0x2]] [[0x5 0x0 0x4 0x0]\n",
      " [0x0 0x5 0x0 0x4]\n",
      " [0x4 0x0 0x5 0x0]\n",
      " [0x0 0x4 0x0 0x5]]\n",
      "8\n"
     ]
    }
   ],
   "source": [
    "print(a, p)\n",
    "print(0x11-0x9)"
   ]
  },
  {
   "cell_type": "code",
   "execution_count": 67,
   "metadata": {
    "collapsed": true
   },
   "outputs": [],
   "source": [
    "col = np.array([[0xdb],\n",
    "                [0x13],\n",
    "                [0x53],\n",
    "                [0x45]])"
   ]
  },
  {
   "cell_type": "code",
   "execution_count": 69,
   "metadata": {
    "collapsed": false
   },
   "outputs": [
    {
     "name": "stdout",
     "output_type": "stream",
     "text": [
      "[[0x89]\n",
      " [0x41]\n",
      " [0x65]\n",
      " [0x84]]\n",
      "[[0xa7]\n",
      " [0xff]\n",
      " [0x7]\n",
      " [0x89]]\n"
     ]
    }
   ],
   "source": [
    "rescol = np.matmul(a, col)\n",
    "print(np.mod(rescol, 255))\n",
    "res = np.matmul(b, rescol)\n",
    "print(np.mod(res, 256))"
   ]
  },
  {
   "cell_type": "code",
   "execution_count": 20,
   "metadata": {
    "collapsed": false
   },
   "outputs": [
    {
     "name": "stdout",
     "output_type": "stream",
     "text": [
      "[[0xe 0x13 0xd 0x11]\n",
      " [0x11 0xe 0x13 0xd]\n",
      " [0xd 0x11 0xe 0x13]\n",
      " [0x13 0xd 0x11 0xe]]\n"
     ]
    }
   ],
   "source": [
    "p = np.array([[5, 0, 4, 0],\n",
    "              [0, 5, 0, 4],\n",
    "              [4, 0, 5, 0],\n",
    "              [0, 4, 0, 5]])\n",
    "a = np.array([[2, 3, 1, 1],\n",
    "              [1, 2, 3, 1],\n",
    "              [1, 1, 2, 3],\n",
    "              [3, 1, 1, 2]])\n",
    "print(np.mod(np.matmul(p,a), 0x18))"
   ]
  },
  {
   "cell_type": "code",
   "execution_count": 11,
   "metadata": {
    "collapsed": false
   },
   "outputs": [
    {
     "name": "stdout",
     "output_type": "stream",
     "text": [
      "0b10011\n",
      "0b1011\n"
     ]
    }
   ],
   "source": [
    "print(bin(0x13))\n",
    "print(bin(0xb))"
   ]
  },
  {
   "cell_type": "code",
   "execution_count": 12,
   "metadata": {
    "collapsed": false
   },
   "outputs": [
    {
     "name": "stdout",
     "output_type": "stream",
     "text": [
      "0b10001\n",
      "0b1001\n"
     ]
    }
   ],
   "source": [
    "print(bin(0x11))\n",
    "print(bin(0x9))"
   ]
  },
  {
   "cell_type": "code",
   "execution_count": null,
   "metadata": {
    "collapsed": true
   },
   "outputs": [],
   "source": []
  }
 ],
 "metadata": {
  "kernelspec": {
   "display_name": "Python 3",
   "language": "python",
   "name": "python3"
  },
  "language_info": {
   "codemirror_mode": {
    "name": "ipython",
    "version": 3
   },
   "file_extension": ".py",
   "mimetype": "text/x-python",
   "name": "python",
   "nbconvert_exporter": "python",
   "pygments_lexer": "ipython3",
   "version": "3.5.1"
  }
 },
 "nbformat": 4,
 "nbformat_minor": 1
}
